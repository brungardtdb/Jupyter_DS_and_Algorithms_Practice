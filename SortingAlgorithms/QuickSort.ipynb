{
 "cells": [
  {
   "cell_type": "code",
   "execution_count": 47,
   "metadata": {},
   "outputs": [],
   "source": [
    "def Partition(numList, lowIndex, highIndex):\n",
    "    \n",
    "    # Midpoint is average of high index - low index added to low index\n",
    "    midPoint = lowIndex + (highIndex - lowIndex) // 2\n",
    "    pivot = numList[midPoint]\n",
    "    sentinal = False\n",
    "    \n",
    "    while not sentinal: \n",
    "        \n",
    "        # Move low index forward until numList[lowIndex] >= pivot\n",
    "        while pivot > numList[lowIndex]:\n",
    "            lowIndex += 1\n",
    "            \n",
    "        # Move high index backward until numList[highIndex] <= pivot\n",
    "        while pivot < numList[highIndex]:\n",
    "            highIndex -= 1\n",
    "        \n",
    "        # When low index and high index meet, terminate loop\n",
    "        if lowIndex >= highIndex:\n",
    "            sentinal = True\n",
    "        else:\n",
    "            # Swap item at low index with item at high index\n",
    "            temp = numList[lowIndex]\n",
    "            numList[lowIndex] = numList[highIndex]\n",
    "            numList[highIndex] = temp\n",
    "            lowIndex += 1\n",
    "            highIndex -= 1\n",
    "    \n",
    "    return highIndex\n",
    "        "
   ]
  },
  {
   "cell_type": "code",
   "execution_count": 53,
   "metadata": {},
   "outputs": [],
   "source": [
    "def QuickSort(numList, lowIndex, highIndex):\n",
    " \n",
    "    # Return if low index and high index meet\n",
    "    if highIndex <= lowIndex:\n",
    "        return\n",
    "    \n",
    "    splitIndex = Partition(numList, lowIndex, highIndex)\n",
    "    \n",
    "    QuickSort(numList, lowIndex, splitIndex)\n",
    "    QuickSort(numList, splitIndex + 1, highIndex)    "
   ]
  },
  {
   "cell_type": "code",
   "execution_count": 56,
   "metadata": {},
   "outputs": [
    {
     "name": "stdout",
     "output_type": "stream",
     "text": [
      "Unsorted list: \t[0, 3, 5, 88, 7, 95, 62, 5, 87, 89, 9, 97, 101]\n",
      "\n",
      "Sorted list: \t[0, 3, 5, 5, 7, 9, 62, 87, 88, 89, 95, 97, 101]\n"
     ]
    }
   ],
   "source": [
    "myList = [0,3,5,88,7,95,62,5,87,89,9,97,101]\n",
    "\n",
    "print(\"Unsorted list: \\t\" + str(myList) + \"\\n\")\n",
    "QuickSort(myList, 0, 12)\n",
    "print(\"Sorted list: \\t\" + str(myList))"
   ]
  }
 ],
 "metadata": {
  "kernelspec": {
   "display_name": "Python 3",
   "language": "python",
   "name": "python3"
  },
  "language_info": {
   "codemirror_mode": {
    "name": "ipython",
    "version": 3
   },
   "file_extension": ".py",
   "mimetype": "text/x-python",
   "name": "python",
   "nbconvert_exporter": "python",
   "pygments_lexer": "ipython3",
   "version": "3.7.6"
  }
 },
 "nbformat": 4,
 "nbformat_minor": 4
}
