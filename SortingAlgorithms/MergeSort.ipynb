{
 "cells": [
  {
   "cell_type": "code",
   "execution_count": 31,
   "metadata": {},
   "outputs": [],
   "source": [
    "def Merge(firstList, secondList):\n",
    "    \n",
    "    # Check for empty lists\n",
    "    if not firstList:\n",
    "        return secondList\n",
    "    elif not secondList: \n",
    "        return firstList\n",
    "    else:\n",
    "    \n",
    "        i = 0\n",
    "        j = 0\n",
    "        firstLength = len(firstList)\n",
    "        secondLength = len(secondList)\n",
    "        outList = []\n",
    "        \n",
    "        # Iterate through lists until we reach the end of one list\n",
    "        while i < firstLength and j < secondLength:\n",
    "        \n",
    "            # If first list item is lower, add to output and increment counter\n",
    "            if firstList[i] < secondList[j]:\n",
    "                outList.append(firstList[i])\n",
    "                i += 1\n",
    "            \n",
    "            # If second list item is lower, add to output and increment counter\n",
    "            elif secondList[j] < firstList[i]:\n",
    "                outList.append(secondList[j])\n",
    "                j += 1\n",
    "            \n",
    "        # Clean up any leftover items in first or second list\n",
    "        while i < firstLength:\n",
    "            outList.append(firstList[i])\n",
    "            i += 1\n",
    "        \n",
    "        while j < secondLength:\n",
    "            outList.append(secondList[j])\n",
    "            j += 1\n",
    "\n",
    "        return outList"
   ]
  },
  {
   "cell_type": "code",
   "execution_count": 32,
   "metadata": {},
   "outputs": [],
   "source": [
    "def Split(numList):\n",
    "    \n",
    "    # If length of list is 1, base case has been reached\n",
    "    if len(numList) == 1: \n",
    "        return numList\n",
    "    else:\n",
    "        \n",
    "        # Recursive case, split list in two\n",
    "        midIndex = len(numList) // 2\n",
    "        firstList = numList[ : midIndex]\n",
    "        secondList = numList[midIndex: ]\n",
    "        # Recursively call Split on each half of list, merge results\n",
    "        outList = Merge(Split(firstList), Split(secondList))\n",
    "        return outList"
   ]
  },
  {
   "cell_type": "code",
   "execution_count": 33,
   "metadata": {},
   "outputs": [],
   "source": [
    "def MergeSort(numList):\n",
    "    \n",
    "    return Split(numList)"
   ]
  },
  {
   "cell_type": "code",
   "execution_count": 35,
   "metadata": {},
   "outputs": [
    {
     "name": "stdout",
     "output_type": "stream",
     "text": [
      "Sorted List: [3, 5, 6, 8, 23, 64, 75, 88, 99, 101, 224]\n"
     ]
    }
   ],
   "source": [
    "myList = [99,88,75,64,3,23,5,6,8,101,224]\n",
    "\n",
    "sortedList = MergeSort(myList)\n",
    "print(\"Sorted List: \" + str(sortedList))"
   ]
  }
 ],
 "metadata": {
  "kernelspec": {
   "display_name": "Python 3",
   "language": "python",
   "name": "python3"
  },
  "language_info": {
   "codemirror_mode": {
    "name": "ipython",
    "version": 3
   },
   "file_extension": ".py",
   "mimetype": "text/x-python",
   "name": "python",
   "nbconvert_exporter": "python",
   "pygments_lexer": "ipython3",
   "version": "3.7.6"
  }
 },
 "nbformat": 4,
 "nbformat_minor": 4
}
