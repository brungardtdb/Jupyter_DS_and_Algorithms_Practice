{
 "cells": [
  {
   "cell_type": "code",
   "execution_count": 5,
   "metadata": {},
   "outputs": [],
   "source": [
    "def InsertionSort(numList):\n",
    "    \n",
    "    i = 0\n",
    "    \n",
    "    # Iterate through list of numbers\n",
    "    while i < len(numList):\n",
    "        \n",
    "        j = i\n",
    "        \n",
    "        # Start from current index i and work our way back through list\n",
    "        while (j > 0) and (numList[j] < numList[j-1]):\n",
    "            \n",
    "            # If number is less than number to it's left, swap the numbers\n",
    "            temp = numList[j]\n",
    "            numList[j] = numList[j-1]\n",
    "            numList[j-1] = temp\n",
    "            \n",
    "            j -= 1\n",
    "        \n",
    "        i += 1\n",
    "        \n",
    "    return numList"
   ]
  },
  {
   "cell_type": "code",
   "execution_count": 7,
   "metadata": {},
   "outputs": [
    {
     "data": {
      "text/plain": [
       "[2, 3, 4, 5, 6, 8, 9, 20, 54, 55, 55, 78, 900]"
      ]
     },
     "execution_count": 7,
     "metadata": {},
     "output_type": "execute_result"
    }
   ],
   "source": [
    "numList = [6,9,8,2,3,5,55,4,54,78,900,20, 55]\n",
    "\n",
    "InsertionSort(numList)"
   ]
  }
 ],
 "metadata": {
  "kernelspec": {
   "display_name": "Python 3",
   "language": "python",
   "name": "python3"
  },
  "language_info": {
   "codemirror_mode": {
    "name": "ipython",
    "version": 3
   },
   "file_extension": ".py",
   "mimetype": "text/x-python",
   "name": "python",
   "nbconvert_exporter": "python",
   "pygments_lexer": "ipython3",
   "version": "3.7.6"
  }
 },
 "nbformat": 4,
 "nbformat_minor": 4
}
