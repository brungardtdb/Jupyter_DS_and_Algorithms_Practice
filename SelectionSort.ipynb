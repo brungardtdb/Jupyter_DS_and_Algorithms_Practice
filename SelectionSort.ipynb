{
 "cells": [
  {
   "cell_type": "code",
   "execution_count": 14,
   "metadata": {},
   "outputs": [],
   "source": [
    "def SelectionSort(numList):\n",
    "    \n",
    "    i = 0\n",
    "    \n",
    "    # Iterate through list of numbers\n",
    "    while i < (len(numList)):\n",
    "        \n",
    "        # Set index of smallest number to current list item index\n",
    "        indexSmallest = i     \n",
    "        # Set counter j to be one ahead of i so we are comparing next in the list\n",
    "        j = i + 1\n",
    "                \n",
    "        # Loop through list of numbers again, comparing each number\n",
    "        while j < (len(numList)):\n",
    "            \n",
    "            # If we reach a number smaller than the number at index i\n",
    "            # Reassign smallest index to index of smaller number\n",
    "            if(numList[indexSmallest] > numList[j]):\n",
    "                indexSmallest = j\n",
    "            j += 1\n",
    "        \n",
    "        # Swap number at i with number at smallest index\n",
    "        temp = numList[i]\n",
    "        numList[i] = numList[indexSmallest]\n",
    "        numList[indexSmallest] = temp\n",
    "        i += 1\n",
    "    \n",
    "    return numList\n",
    "            "
   ]
  },
  {
   "cell_type": "code",
   "execution_count": 15,
   "metadata": {},
   "outputs": [
    {
     "data": {
      "text/plain": [
       "[2, 5, 6, 7, 8, 25, 62, 84, 94, 101, 101]"
      ]
     },
     "execution_count": 15,
     "metadata": {},
     "output_type": "execute_result"
    }
   ],
   "source": [
    "sortingList = [5,62,8,94,101,7,25,6,84,2,101]\n",
    "\n",
    "SelectionSort(sortingList)"
   ]
  }
 ],
 "metadata": {
  "kernelspec": {
   "display_name": "Python 3",
   "language": "python",
   "name": "python3"
  },
  "language_info": {
   "codemirror_mode": {
    "name": "ipython",
    "version": 3
   },
   "file_extension": ".py",
   "mimetype": "text/x-python",
   "name": "python",
   "nbconvert_exporter": "python",
   "pygments_lexer": "ipython3",
   "version": "3.7.6"
  }
 },
 "nbformat": 4,
 "nbformat_minor": 4
}
