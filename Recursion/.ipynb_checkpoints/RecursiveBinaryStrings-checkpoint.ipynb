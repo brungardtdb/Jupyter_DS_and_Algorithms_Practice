{
 "cells": [
  {
   "cell_type": "code",
   "execution_count": 24,
   "metadata": {},
   "outputs": [],
   "source": [
    "def BinaryStrings(n):\n",
    "# takes positive number as input and returns every possible binary string of length n\n",
    "\n",
    "    # base case is reached, return list w/ empty string\n",
    "    if n == 0:\n",
    "        S = [\"\"]\n",
    "        return S\n",
    "        \n",
    "    else:\n",
    "        \n",
    "        S = []\n",
    "        \n",
    "        # recursive call\n",
    "        T = BinaryStrings(n-1)\n",
    "        \n",
    "        # prepend each item in list with 0 and 1\n",
    "        for item in T: \n",
    "            \n",
    "            X = \"0\" + item\n",
    "            Y = \"1\" + item\n",
    "        \n",
    "            S.append(X)\n",
    "            S.append(Y)\n",
    "        \n",
    "        return S\n",
    "        "
   ]
  },
  {
   "cell_type": "code",
   "execution_count": 28,
   "metadata": {},
   "outputs": [
    {
     "data": {
      "text/plain": [
       "['0', '1']"
      ]
     },
     "execution_count": 28,
     "metadata": {},
     "output_type": "execute_result"
    }
   ],
   "source": [
    "BinaryStrings(1)"
   ]
  },
  {
   "cell_type": "code",
   "execution_count": 29,
   "metadata": {},
   "outputs": [
    {
     "data": {
      "text/plain": [
       "['00', '10', '01', '11']"
      ]
     },
     "execution_count": 29,
     "metadata": {},
     "output_type": "execute_result"
    }
   ],
   "source": [
    "BinaryStrings(2)"
   ]
  },
  {
   "cell_type": "code",
   "execution_count": 30,
   "metadata": {},
   "outputs": [
    {
     "data": {
      "text/plain": [
       "['000', '100', '010', '110', '001', '101', '011', '111']"
      ]
     },
     "execution_count": 30,
     "metadata": {},
     "output_type": "execute_result"
    }
   ],
   "source": [
    "BinaryStrings(3)"
   ]
  },
  {
   "cell_type": "code",
   "execution_count": 31,
   "metadata": {},
   "outputs": [
    {
     "data": {
      "text/plain": [
       "['0000',\n",
       " '1000',\n",
       " '0100',\n",
       " '1100',\n",
       " '0010',\n",
       " '1010',\n",
       " '0110',\n",
       " '1110',\n",
       " '0001',\n",
       " '1001',\n",
       " '0101',\n",
       " '1101',\n",
       " '0011',\n",
       " '1011',\n",
       " '0111',\n",
       " '1111']"
      ]
     },
     "execution_count": 31,
     "metadata": {},
     "output_type": "execute_result"
    }
   ],
   "source": [
    "BinaryStrings(4)"
   ]
  }
 ],
 "metadata": {
  "kernelspec": {
   "display_name": "Python 3",
   "language": "python",
   "name": "python3"
  },
  "language_info": {
   "codemirror_mode": {
    "name": "ipython",
    "version": 3
   },
   "file_extension": ".py",
   "mimetype": "text/x-python",
   "name": "python",
   "nbconvert_exporter": "python",
   "pygments_lexer": "ipython3",
   "version": "3.7.6"
  }
 },
 "nbformat": 4,
 "nbformat_minor": 4
}
