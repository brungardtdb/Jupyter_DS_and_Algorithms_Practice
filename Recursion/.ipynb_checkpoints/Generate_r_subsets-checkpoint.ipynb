{
 "cells": [
  {
   "cell_type": "code",
   "execution_count": 15,
   "metadata": {},
   "outputs": [],
   "source": [
    "# Define recursive function to generate all subsets of length n from universal set {0,1,...r-1,r}\n",
    "# Time complexity is rCn\n",
    "def RSubsets(r, n):\n",
    "    \n",
    "    def GetSubSet(universalSet, subSet):\n",
    "        \n",
    "        sentinal = False\n",
    "        # Going from right to left, check for values that can be incremented\n",
    "        setIndex = (len(subSet) - 1)\n",
    "        r = (len(universalSet) - 1)\n",
    "        \n",
    "        while setIndex >= 0:\n",
    "            \n",
    "            if subSet[setIndex] < universalSet[r]:\n",
    "                \n",
    "                # Change sentinal value to True, base case not reached\n",
    "                sentinal = True\n",
    "                # Break from loop if condition is met\n",
    "                break\n",
    "                \n",
    "            else:\n",
    "                # Decrement counter and move through loop if condition isn't met\n",
    "                setIndex -= 1\n",
    "                r -=1       \n",
    "                \n",
    "        # Print subset before modifying to obtain next lexicographic subset\n",
    "        print(subSet)\n",
    "        \n",
    "        # If base case is met \n",
    "        if sentinal is False:\n",
    "            return subSet\n",
    "        \n",
    "        elif sentinal is True:\n",
    "            \n",
    "            # Increment value by 1 and count up until end of list\n",
    "            newValue = subSet[setIndex] + 1\n",
    "            subSet[setIndex] = newValue\n",
    "            setIndex += 1\n",
    "                \n",
    "            while setIndex < len(subSet):\n",
    "                \n",
    "                # Start from incremented value and count up until end of list\n",
    "                newValue = newValue + 1\n",
    "                subSet[setIndex] = newValue\n",
    "                setIndex += 1\n",
    "                \n",
    "            # Recursive call\n",
    "            return GetSubSet(universalSet, subSet)  \n",
    "    \n",
    "    # Create universal set that contains all subsets\n",
    "    universalSet = []\n",
    "    \n",
    "    # Populate universal set from 0 to r\n",
    "    i = 0\n",
    "    while (i < r):\n",
    "        universalSet.append(i + 1)\n",
    "        i += 1\n",
    "    \n",
    "    # Populate first subset\n",
    "    subSet = []\n",
    "    j = 0\n",
    "    while (j < n):\n",
    "        subSet.append(universalSet[j])\n",
    "        j += 1\n",
    "        \n",
    "    GetSubSet(universalSet, subSet)"
   ]
  },
  {
   "cell_type": "code",
   "execution_count": 16,
   "metadata": {},
   "outputs": [
    {
     "name": "stdout",
     "output_type": "stream",
     "text": [
      "[1, 2, 3]\n",
      "[1, 2, 4]\n",
      "[1, 2, 5]\n",
      "[1, 3, 4]\n",
      "[1, 3, 5]\n",
      "[1, 4, 5]\n",
      "[2, 3, 4]\n",
      "[2, 3, 5]\n",
      "[2, 4, 5]\n",
      "[3, 4, 5]\n"
     ]
    }
   ],
   "source": [
    "RSubsets(5,3)"
   ]
  },
  {
   "cell_type": "code",
   "execution_count": 17,
   "metadata": {},
   "outputs": [
    {
     "name": "stdout",
     "output_type": "stream",
     "text": [
      "[1, 2, 3, 4, 5, 6, 7, 8, 9]\n",
      "[1, 2, 3, 4, 5, 6, 7, 8, 10]\n",
      "[1, 2, 3, 4, 5, 6, 7, 9, 10]\n",
      "[1, 2, 3, 4, 5, 6, 8, 9, 10]\n",
      "[1, 2, 3, 4, 5, 7, 8, 9, 10]\n",
      "[1, 2, 3, 4, 6, 7, 8, 9, 10]\n",
      "[1, 2, 3, 5, 6, 7, 8, 9, 10]\n",
      "[1, 2, 4, 5, 6, 7, 8, 9, 10]\n",
      "[1, 3, 4, 5, 6, 7, 8, 9, 10]\n",
      "[2, 3, 4, 5, 6, 7, 8, 9, 10]\n"
     ]
    }
   ],
   "source": [
    "RSubsets(10,9)"
   ]
  },
  {
   "cell_type": "code",
   "execution_count": 19,
   "metadata": {},
   "outputs": [
    {
     "name": "stdout",
     "output_type": "stream",
     "text": [
      "[1, 2, 3, 4]\n",
      "[1, 2, 3, 5]\n",
      "[1, 2, 3, 6]\n",
      "[1, 2, 4, 5]\n",
      "[1, 2, 4, 6]\n",
      "[1, 2, 5, 6]\n",
      "[1, 3, 4, 5]\n",
      "[1, 3, 4, 6]\n",
      "[1, 3, 5, 6]\n",
      "[1, 4, 5, 6]\n",
      "[2, 3, 4, 5]\n",
      "[2, 3, 4, 6]\n",
      "[2, 3, 5, 6]\n",
      "[2, 4, 5, 6]\n",
      "[3, 4, 5, 6]\n"
     ]
    }
   ],
   "source": [
    "RSubsets(6,4)"
   ]
  }
 ],
 "metadata": {
  "kernelspec": {
   "display_name": "Python 3",
   "language": "python",
   "name": "python3"
  },
  "language_info": {
   "codemirror_mode": {
    "name": "ipython",
    "version": 3
   },
   "file_extension": ".py",
   "mimetype": "text/x-python",
   "name": "python",
   "nbconvert_exporter": "python",
   "pygments_lexer": "ipython3",
   "version": "3.7.6"
  }
 },
 "nbformat": 4,
 "nbformat_minor": 4
}
