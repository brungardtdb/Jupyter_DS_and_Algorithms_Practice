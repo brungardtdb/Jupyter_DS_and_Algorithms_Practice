{
 "cells": [
  {
   "cell_type": "code",
   "execution_count": 3,
   "metadata": {},
   "outputs": [],
   "source": [
    "def TowersOfHanoi(numRings, StartTower, EndTower, AuxTower):\n",
    "# side note - it's insane how complicated you can make this problem when it's actually fairly straightforward\n",
    "\n",
    "    #base case\n",
    "    if(numRings == 1):\n",
    "        print(StartTower +  ' -> ' + EndTower)\n",
    "    \n",
    "    #recursive case\n",
    "    else:        \n",
    "        TowersOfHanoi((numRings - 1), StartTower, AuxTower, EndTower) # move n-1 rings to auxiliary tower\n",
    "        print(StartTower +  ' -> ' + EndTower)                        # move nth ring to destination tower\n",
    "        TowersOfHanoi((numRings - 1), AuxTower, EndTower, StartTower) # move n-1 rings from aux to destination tower\n",
    "   "
   ]
  },
  {
   "cell_type": "code",
   "execution_count": 8,
   "metadata": {},
   "outputs": [
    {
     "name": "stdout",
     "output_type": "stream",
     "text": [
      "A -> C\n",
      "A -> B\n",
      "C -> B\n",
      "A -> C\n",
      "B -> A\n",
      "B -> C\n",
      "A -> C\n",
      "A -> B\n",
      "C -> B\n",
      "C -> A\n",
      "B -> A\n",
      "C -> B\n",
      "A -> C\n",
      "A -> B\n",
      "C -> B\n"
     ]
    }
   ],
   "source": [
    "startTower = 'A'\n",
    "endTower = 'B'\n",
    "auxTower = 'C'\n",
    "\n",
    "TowersOfHanoi(4,startTower, endTower, auxTower)"
   ]
  }
 ],
 "metadata": {
  "kernelspec": {
   "display_name": "Python 3",
   "language": "python",
   "name": "python3"
  },
  "language_info": {
   "codemirror_mode": {
    "name": "ipython",
    "version": 3
   },
   "file_extension": ".py",
   "mimetype": "text/x-python",
   "name": "python",
   "nbconvert_exporter": "python",
   "pygments_lexer": "ipython3",
   "version": "3.7.6"
  }
 },
 "nbformat": 4,
 "nbformat_minor": 4
}
