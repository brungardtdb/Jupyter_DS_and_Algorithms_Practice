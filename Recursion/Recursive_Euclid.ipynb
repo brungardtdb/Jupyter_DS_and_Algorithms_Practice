{
 "cells": [
  {
   "cell_type": "code",
   "execution_count": 1,
   "metadata": {},
   "outputs": [],
   "source": [
    "def EuclideanGCF(firstNum, secondNum):\n",
    "    \n",
    "    remainder = 0\n",
    "    dividend = 0\n",
    "    \n",
    "    # if numbers are the same, return number\n",
    "    if (firstNum == secondNum): #base case\n",
    "        return firstNum\n",
    "    \n",
    "    # if first number is bigger, dividend is secondNum\n",
    "    elif (firstNum > secondNum): #recursive case\n",
    "        remainder = (firstNum % secondNum)\n",
    "        dividend = secondNum\n",
    "        \n",
    "    # if second number is bigger, dividend is firstNum\n",
    "    elif (secondNum > firstNum): #recursive case\n",
    "        remainder = (secondNum % firstNum)\n",
    "        dividend = firstNum\n",
    "        \n",
    "    if (remainder == 0): #base case\n",
    "        return dividend\n",
    "    else:\n",
    "        return EuclideanGCF(dividend, remainder) #if no base case is reached, pass dividend and remainder into function "
   ]
  },
  {
   "cell_type": "code",
   "execution_count": 2,
   "metadata": {},
   "outputs": [
    {
     "data": {
      "text/plain": [
       "25"
      ]
     },
     "execution_count": 2,
     "metadata": {},
     "output_type": "execute_result"
    }
   ],
   "source": [
    "EuclideanGCF(3375,550)"
   ]
  }
 ],
 "metadata": {
  "kernelspec": {
   "display_name": "Python 3",
   "language": "python",
   "name": "python3"
  },
  "language_info": {
   "codemirror_mode": {
    "name": "ipython",
    "version": 3
   },
   "file_extension": ".py",
   "mimetype": "text/x-python",
   "name": "python",
   "nbconvert_exporter": "python",
   "pygments_lexer": "ipython3",
   "version": "3.7.6"
  }
 },
 "nbformat": 4,
 "nbformat_minor": 4
}
