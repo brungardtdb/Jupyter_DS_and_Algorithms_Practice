{
 "cells": [
  {
   "cell_type": "code",
   "execution_count": 53,
   "metadata": {},
   "outputs": [],
   "source": [
    "def ExtendedEuclideanGCF(firstNum, secondNum):\n",
    "    \n",
    "    #Bezout's theorem\n",
    "    #for GCD(X,Y), there exists two numbers (S,T) | XS + YT = GCD\n",
    "    \n",
    "    remainder = 0\n",
    "    dividend = 0\n",
    "    \n",
    "    # Recurse until second number = 0\n",
    "    if (secondNum == 0): #base case\n",
    "        return firstNum, 1, 0\n",
    "    \n",
    "    # if numbers are the same, return number\n",
    "    # S and T will both be 1/2 so (XS + YT) = X = Y\n",
    "    if (firstNum == secondNum): #base case\n",
    "        S = 1/2\n",
    "        T = 1/2\n",
    "        return firstNum, S, T\n",
    "    \n",
    "    # if first number is bigger, dividend is secondNum\n",
    "    elif (firstNum > secondNum): \n",
    "        remainder = (firstNum % secondNum)\n",
    "        dividend = secondNum\n",
    "        quotient = firstNum // secondNum\n",
    "        \n",
    "    # if second number is bigger, dividend is firstNum\n",
    "    elif (secondNum > firstNum): \n",
    "        remainder = (secondNum % firstNum)\n",
    "        dividend = firstNum\n",
    "        quotient = firstNum // secondNum       \n",
    "\n",
    "    #recursive case\n",
    "    (Divisor, Div, Mod) = ExtendedEuclideanGCF(dividend, remainder) #if no base case is reached, pass dividend and remainder into function \n",
    "    D = Divisor\n",
    "    S = Mod\n",
    "    T = Div - (firstNum // secondNum) * Mod\n",
    "    # Remainder (or mod) of n-1 is always dividend - (remainder * quotient) for n\n",
    "    return (D,S,T)"
   ]
  },
  {
   "cell_type": "code",
   "execution_count": 60,
   "metadata": {},
   "outputs": [
    {
     "name": "stdout",
     "output_type": "stream",
     "text": [
      "X: 3375\n",
      "Y: 550\n",
      "\n",
      "GCF: 25\n",
      "\n",
      "S: -7\n",
      "T: 43\n",
      "\n",
      "XS + YT: 25\n"
     ]
    }
   ],
   "source": [
    "x = 3375\n",
    "y = 550\n",
    "\n",
    "gcf, s, t = ExtendedEuclideanGCF(x, y)\n",
    "\n",
    "print(\"X: \" + str(x))\n",
    "print(\"Y: \" + str(y) + \"\\n\")\n",
    "print(\"GCF: \" + str(gcf) + \"\\n\")\n",
    "print(\"S: \" + str(s))\n",
    "print(\"T: \" + str(t) + \"\\n\")\n",
    "Bezout = (x * s + y * t)\n",
    "print(\"XS + YT: \" + str(Bezout))"
   ]
  }
 ],
 "metadata": {
  "kernelspec": {
   "display_name": "Python 3",
   "language": "python",
   "name": "python3"
  },
  "language_info": {
   "codemirror_mode": {
    "name": "ipython",
    "version": 3
   },
   "file_extension": ".py",
   "mimetype": "text/x-python",
   "name": "python",
   "nbconvert_exporter": "python",
   "pygments_lexer": "ipython3",
   "version": "3.7.6"
  }
 },
 "nbformat": 4,
 "nbformat_minor": 4
}
