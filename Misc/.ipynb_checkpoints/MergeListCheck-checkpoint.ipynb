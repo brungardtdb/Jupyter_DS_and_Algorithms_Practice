{
 "cells": [
  {
   "cell_type": "code",
   "execution_count": 1,
   "metadata": {},
   "outputs": [],
   "source": [
    "# Writing this little algorithm to check my work on a practice test for Discrete Math II\n",
    "def MergeLists(list1, list2):\n",
    "    \n",
    "    firstListLength = len(list1)\n",
    "    secondListLength = len(list2)\n",
    "    firstCounter = 0\n",
    "    secondCounter = 0\n",
    "\n",
    "    outList = []\n",
    "    \n",
    "    # loop until both lists are empty\n",
    "    # ~(notEmpty v notEmpty) == ~notEmpty ^ ~notEmpty per DeMorgan's Law\n",
    "    while firstListLength > 0 or secondListLength > 0:\n",
    "        \n",
    "        if firstListLength == 0: \n",
    "            # if first list is empty, add next item from second list to output\n",
    "            outList.append(list2[secondCounter])\n",
    "            secondListLength -=1\n",
    "            secondCounter += 1\n",
    "             \n",
    "            \n",
    "        elif secondListLength == 0:\n",
    "            # if second list is empty, add next item from first list to output\n",
    "            outList.append(list1[firstCounter])\n",
    "            firstListLength -= 1\n",
    "            firstCounter += 1\n",
    "            \n",
    "        else: \n",
    "            # if neither list is empty, add next item from first list, then second list\n",
    "            outList.append(list1[firstCounter])\n",
    "            outList.append(list2[secondCounter])\n",
    "            firstListLength -= 1\n",
    "            secondListLength -=1\n",
    "            firstCounter += 1\n",
    "            secondCounter += 1\n",
    "    \n",
    "    return outList"
   ]
  },
  {
   "cell_type": "code",
   "execution_count": 2,
   "metadata": {},
   "outputs": [
    {
     "data": {
      "text/plain": [
       "[1, 2, 3, 4, 5, 6]"
      ]
     },
     "execution_count": 2,
     "metadata": {},
     "output_type": "execute_result"
    }
   ],
   "source": [
    "list1 = [1,3,5]\n",
    "list2 = [2,4,6]\n",
    "MergeLists(list1, list2)"
   ]
  },
  {
   "cell_type": "code",
   "execution_count": 3,
   "metadata": {},
   "outputs": [
    {
     "data": {
      "text/plain": [
       "[1, 2, 3, 1, 5, 4, 3, 6, 5]"
      ]
     },
     "execution_count": 3,
     "metadata": {},
     "output_type": "execute_result"
    }
   ],
   "source": [
    "MergeLists(list1, MergeLists(list2, list1))"
   ]
  }
 ],
 "metadata": {
  "kernelspec": {
   "display_name": "Python 3",
   "language": "python",
   "name": "python3"
  },
  "language_info": {
   "codemirror_mode": {
    "name": "ipython",
    "version": 3
   },
   "file_extension": ".py",
   "mimetype": "text/x-python",
   "name": "python",
   "nbconvert_exporter": "python",
   "pygments_lexer": "ipython3",
   "version": "3.7.6"
  }
 },
 "nbformat": 4,
 "nbformat_minor": 4
}
