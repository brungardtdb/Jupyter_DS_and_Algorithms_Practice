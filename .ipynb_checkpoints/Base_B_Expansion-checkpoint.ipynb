{
 "cells": [
  {
   "cell_type": "code",
   "execution_count": 1,
   "metadata": {},
   "outputs": [],
   "source": [
    "import math\n",
    "def ExpBase_to_Num(expansionBase, base):\n",
    "    \n",
    "    i = 0\n",
    "    num = 0\n",
    "    \n",
    "    # Loop through expansion base\n",
    "    while i < len(expansionBase):\n",
    "        \n",
    "        # Multiply every number in expansion base by base raised to power of current iteration\n",
    "        num += expansionBase[i] * math.pow(base, i)\n",
    "        i += 1\n",
    "        \n",
    "    # Return expansion base converted back to base ten\n",
    "    return num"
   ]
  },
  {
   "cell_type": "code",
   "execution_count": 2,
   "metadata": {},
   "outputs": [],
   "source": [
    "def Base_B_Expansion(num, base):\n",
    "    \n",
    "    # Storing this in a list is easier, so that's what I'm going to do :D\n",
    "    expansionBase = []\n",
    "    \n",
    "    # Loop until we can no longer divide for an integer\n",
    "    while num > 0:\n",
    "        # Add remainder to expansion base\n",
    "        expansionBase.append(num % base)\n",
    "        # Number becomes quotient and loop continues\n",
    "        num = num // base    \n",
    "    \n",
    "    # Return our decimal number, converted to base of our choosing\n",
    "    # Stored conveniently in a list\n",
    "    return expansionBase"
   ]
  },
  {
   "cell_type": "code",
   "execution_count": 3,
   "metadata": {},
   "outputs": [
    {
     "name": "stdout",
     "output_type": "stream",
     "text": [
      "[1, 5, 1]\n",
      "67.0\n"
     ]
    }
   ],
   "source": [
    "expBase = Base_B_Expansion(67,6)\n",
    "print(expBase)\n",
    "\n",
    "decimal = ExpBase_to_Num(expBase, 6)\n",
    "print(decimal)"
   ]
  }
 ],
 "metadata": {
  "kernelspec": {
   "display_name": "Python 3",
   "language": "python",
   "name": "python3"
  },
  "language_info": {
   "codemirror_mode": {
    "name": "ipython",
    "version": 3
   },
   "file_extension": ".py",
   "mimetype": "text/x-python",
   "name": "python",
   "nbconvert_exporter": "python",
   "pygments_lexer": "ipython3",
   "version": "3.7.6"
  }
 },
 "nbformat": 4,
 "nbformat_minor": 4
}
