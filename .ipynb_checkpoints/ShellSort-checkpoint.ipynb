{
 "cells": [
  {
   "cell_type": "code",
   "execution_count": 36,
   "metadata": {},
   "outputs": [],
   "source": [
    "def InsertionSort(numList):\n",
    "    \n",
    "    i = 0\n",
    "    \n",
    "    # Iterate through list of numbers\n",
    "    while i < len(numList):\n",
    "        \n",
    "        j = i\n",
    "        \n",
    "        # Start from current index i and work our way back through list\n",
    "        while (j > 0) and (numList[j] < numList[j-1]):\n",
    "            \n",
    "            # If number is less than number to it's left, swap the numbers\n",
    "            temp = numList[j]\n",
    "            numList[j] = numList[j-1]\n",
    "            numList[j-1] = temp\n",
    "            \n",
    "            j -= 1\n",
    "        \n",
    "        i += 1\n",
    "        \n",
    "    return numList"
   ]
  },
  {
   "cell_type": "code",
   "execution_count": 37,
   "metadata": {},
   "outputs": [],
   "source": [
    "def ShellSort(numList):\n",
    "    \n",
    "    #Initialize gap value at half of list length\n",
    "    numGap = int((len(numList) / 2))\n",
    "    \n",
    "    while (numGap > 0):\n",
    "        \n",
    "        # Iterate through list until gap between numbers is 0\n",
    "        i = 0\n",
    "        tempList = []\n",
    "        \n",
    "        while (i < len(numList)):\n",
    "            \n",
    "            # Add items to temporary list that are n items apart\n",
    "            tempList.append(numList[i])            \n",
    "            i += numGap\n",
    "\n",
    "        # Sort list of numbers that are n apart\n",
    "        newList = InsertionSort(tempList)\n",
    "        \n",
    "        j = 0\n",
    "        h = 0\n",
    "        \n",
    "        while j < len(numList):\n",
    "\n",
    "            # return numbers from sorted list to original list at n apart locations\n",
    "            numList[j] = newList[h]\n",
    "\n",
    "            j += numGap      \n",
    "            h += 1\n",
    "            \n",
    "        # reduce gap between numbers in list by 1/2 every iteration\n",
    "        numGap = int(numGap /2)\n",
    "\n",
    "    return numList"
   ]
  },
  {
   "cell_type": "code",
   "execution_count": 40,
   "metadata": {},
   "outputs": [
    {
     "name": "stdout",
     "output_type": "stream",
     "text": [
      "[0, 1, 11, 22, 33, 44, 55, 66, 77, 88, 99, 100, 110]\n"
     ]
    }
   ],
   "source": [
    "myList = [99,88,77,66,55,44,33,22,11,1,0,100,110]\n",
    "\n",
    "print(ShellSort(myList))"
   ]
  }
 ],
 "metadata": {
  "kernelspec": {
   "display_name": "Python 3",
   "language": "python",
   "name": "python3"
  },
  "language_info": {
   "codemirror_mode": {
    "name": "ipython",
    "version": 3
   },
   "file_extension": ".py",
   "mimetype": "text/x-python",
   "name": "python",
   "nbconvert_exporter": "python",
   "pygments_lexer": "ipython3",
   "version": "3.7.6"
  }
 },
 "nbformat": 4,
 "nbformat_minor": 4
}
