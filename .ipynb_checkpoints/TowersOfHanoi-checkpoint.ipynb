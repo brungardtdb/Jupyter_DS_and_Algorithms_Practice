{
 "cells": [
  {
   "cell_type": "code",
   "execution_count": 57,
   "metadata": {},
   "outputs": [],
   "source": [
    "def TowersOfHanoi(numRings, StartTower, AuxTower, EndTower):\n",
    "    \n",
    "    if(numRings == 1):\n",
    "        print(numRings)\n",
    "        print('Start = ' + StartTower)\n",
    "        print('Aux = ' + AuxTower)\n",
    "        print('End = ' + EndTower)\n",
    "        print(StartTower +  ' -> ' + EndTower)\n",
    "    \n",
    "    elif(numRings == 2):\n",
    "        print(numRings)\n",
    "        print('Start = ' + StartTower)\n",
    "        print('Aux = ' + AuxTower)\n",
    "        print('End = ' + EndTower)\n",
    "        print(StartTower +  ' -> ' + EndTower)\n",
    "        TowersOfHanoi((numRings - 1), StartTower, AuxTower, EndTower)\n",
    "        \n",
    "    else:\n",
    "        print(numRings)\n",
    "        print('Start = ' + StartTower)\n",
    "        print('Aux = ' + AuxTower)\n",
    "        print('End = ' + EndTower)\n",
    "        print(StartTower +  ' -> ' + EndTower)\n",
    "        TowersOfHanoi((numRings - 1), StartTower, EndTower, AuxTower)\n",
    "   "
   ]
  },
  {
   "cell_type": "code",
   "execution_count": 58,
   "metadata": {},
   "outputs": [
    {
     "name": "stdout",
     "output_type": "stream",
     "text": [
      "2\n",
      "Start = A\n",
      "Aux = B\n",
      "End = C\n",
      "A -> C\n",
      "1\n",
      "Start = A\n",
      "Aux = B\n",
      "End = C\n",
      "A -> C\n"
     ]
    }
   ],
   "source": [
    "startTower = 'A'\n",
    "auxTower = 'B'\n",
    "endTower = 'C'\n",
    "\n",
    "TowersOfHanoi(2,startTower, auxTower, endTower)"
   ]
  },
  {
   "cell_type": "code",
   "execution_count": null,
   "metadata": {},
   "outputs": [],
   "source": []
  }
 ],
 "metadata": {
  "kernelspec": {
   "display_name": "Python 3",
   "language": "python",
   "name": "python3"
  },
  "language_info": {
   "codemirror_mode": {
    "name": "ipython",
    "version": 3
   },
   "file_extension": ".py",
   "mimetype": "text/x-python",
   "name": "python",
   "nbconvert_exporter": "python",
   "pygments_lexer": "ipython3",
   "version": "3.7.6"
  }
 },
 "nbformat": 4,
 "nbformat_minor": 4
}
