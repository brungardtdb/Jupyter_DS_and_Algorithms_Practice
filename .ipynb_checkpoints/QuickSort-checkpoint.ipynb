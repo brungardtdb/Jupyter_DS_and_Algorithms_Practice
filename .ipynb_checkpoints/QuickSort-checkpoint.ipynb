{
 "cells": [
  {
   "cell_type": "code",
   "execution_count": 54,
   "metadata": {},
   "outputs": [
    {
     "ename": "SyntaxError",
     "evalue": "invalid syntax (<ipython-input-54-85ec2a49eee4>, line 52)",
     "output_type": "error",
     "traceback": [
      "\u001b[1;36m  File \u001b[1;32m\"<ipython-input-54-85ec2a49eee4>\"\u001b[1;36m, line \u001b[1;32m52\u001b[0m\n\u001b[1;33m    else:\u001b[0m\n\u001b[1;37m       ^\u001b[0m\n\u001b[1;31mSyntaxError\u001b[0m\u001b[1;31m:\u001b[0m invalid syntax\n"
     ]
    }
   ],
   "source": [
    "def QuickSort(numList):\n",
    "    \n",
    "    def _merge(lowList, highList):\n",
    "        \n",
    "        print(\"LowList: \" + str(lowList))\n",
    "        print(\"HighList: \" + str(highList))\n",
    "            \n",
    "        returnList = []\n",
    "        \n",
    "        i = 0\n",
    "        j = 0\n",
    "        \n",
    "        if lowList is not None:\n",
    "            while i < len(lowList):\n",
    "                returnList.append(lowList[i])\n",
    "                i += 1\n",
    "            \n",
    "        if highList is not None: \n",
    "            while j < len(highList):\n",
    "                returnList.append(highList[j])\n",
    "                j += 1\n",
    "        print(\"Return List: \" + str(returnList))\n",
    "        return returnList\n",
    "    \n",
    "    def _partition(numList):\n",
    "        \n",
    "        if len(numList) == 1: \n",
    "            return numList\n",
    "        \n",
    "        else:\n",
    "            \n",
    "            pivot = numList[int((len(numList) / 2))]\n",
    "            print(\"pivot: \" + str(pivot))\n",
    "            \n",
    "            i = 0\n",
    "            j = 0\n",
    "        \n",
    "            while j < (len(numList) - 1):\n",
    "            \n",
    "                if numList[j] < pivot:\n",
    "                    #print(\"Before Swap: \\n\" + str(numList))\n",
    "                    temp = numList[i]\n",
    "                    numList[i] = numList[j]\n",
    "                    numList[j] = temp\n",
    "                    i += 1\n",
    "                    #print(\"After Swap: \\n\" + str(numList))\n",
    "                j += 1\n",
    "                \n",
    "                lowList = numList[:i]\n",
    "                highList = numList[i+1:]\n",
    "                print(\"HighList: \" + str(numList[i + 1:]))\n",
    "                return _merge(_partition(lowList), _partition(highList))\n",
    "        else:\n",
    "            return numList\n",
    "    \n",
    "    return _partition(numList)"
   ]
  },
  {
   "cell_type": "code",
   "execution_count": 55,
   "metadata": {},
   "outputs": [
    {
     "name": "stdout",
     "output_type": "stream",
     "text": [
      "pivot: 62\n",
      "HighList: [5, 88, 7, 95, 62, 5, 87, 89, 9, 97, 101]\n",
      "pivot: 0\n",
      "pivot: 5\n",
      "HighList: [88, 7, 95, 62, 5, 87, 89, 9, 97, 101]\n",
      "pivot: 87\n",
      "HighList: [7, 95, 62, 5, 87, 89, 9, 97, 101]\n",
      "pivot: 87\n",
      "HighList: [62, 5, 87, 89, 9, 97, 101]\n",
      "pivot: 7\n",
      "pivot: 89\n",
      "HighList: [87, 89, 9, 97, 101]\n",
      "pivot: 62\n",
      "pivot: 9\n",
      "HighList: [89, 9, 97, 101]\n",
      "pivot: 97\n",
      "HighList: [97, 101]\n",
      "pivot: 89\n",
      "pivot: 101\n",
      "HighList: []\n",
      "pivot: 97\n",
      "LowList: None\n",
      "HighList: []\n",
      "Return List: []\n",
      "LowList: None\n",
      "HighList: []\n",
      "Return List: []\n",
      "LowList: []\n",
      "HighList: []\n",
      "Return List: []\n",
      "LowList: None\n",
      "HighList: []\n",
      "Return List: []\n",
      "LowList: None\n",
      "HighList: []\n",
      "Return List: []\n",
      "LowList: []\n",
      "HighList: []\n",
      "Return List: []\n",
      "LowList: []\n",
      "HighList: []\n",
      "Return List: []\n",
      "LowList: None\n",
      "HighList: []\n",
      "Return List: []\n"
     ]
    },
    {
     "data": {
      "text/plain": [
       "[]"
      ]
     },
     "execution_count": 55,
     "metadata": {},
     "output_type": "execute_result"
    }
   ],
   "source": [
    "myList = [0,3,5,88,7,95,62,5,87,89,9,97,101]\n",
    "\n",
    "QuickSort(myList)"
   ]
  },
  {
   "cell_type": "code",
   "execution_count": null,
   "metadata": {},
   "outputs": [],
   "source": []
  }
 ],
 "metadata": {
  "kernelspec": {
   "display_name": "Python 3",
   "language": "python",
   "name": "python3"
  },
  "language_info": {
   "codemirror_mode": {
    "name": "ipython",
    "version": 3
   },
   "file_extension": ".py",
   "mimetype": "text/x-python",
   "name": "python",
   "nbconvert_exporter": "python",
   "pygments_lexer": "ipython3",
   "version": "3.7.6"
  }
 },
 "nbformat": 4,
 "nbformat_minor": 4
}
